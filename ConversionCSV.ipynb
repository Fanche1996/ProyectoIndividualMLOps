{
 "cells": [
  {
   "cell_type": "code",
   "execution_count": null,
   "metadata": {},
   "outputs": [],
   "source": [
    "import pandas as pd\n",
    "\n",
    "df = pd.read_json('steam_games.json')\n"
   ]
  },
  {
   "cell_type": "code",
   "execution_count": 54,
   "metadata": {},
   "outputs": [],
   "source": [
    "with open('steam_games.json', 'r') as file:\n",
    "    lines = file.readlines()\n",
    "\n",
    "# Limpieza\n",
    "cleaned_lines = [line.replace(\"u'\", \"'\").strip() for line in lines if line.strip()]\n",
    "content = '[' + ', '.join(cleaned_lines) + ']'\n",
    "\n",
    "# Cadena a lista\n",
    "data_list = eval(content)\n",
    "\n",
    "# Lista a DataFrame\n",
    "df = pd.DataFrame(data_list)\n",
    "df = df[df['app_name'].notna() & (df['app_name'] != '')]\n",
    "\n",
    "# Csv\n",
    "df.to_csv('steam_games.csv', index=False)\n"
   ]
  }
 ],
 "metadata": {
  "kernelspec": {
   "display_name": "Python 3",
   "language": "python",
   "name": "python3"
  },
  "language_info": {
   "codemirror_mode": {
    "name": "ipython",
    "version": 3
   },
   "file_extension": ".py",
   "mimetype": "text/x-python",
   "name": "python",
   "nbconvert_exporter": "python",
   "pygments_lexer": "ipython3",
   "version": "3.10.11"
  },
  "orig_nbformat": 4
 },
 "nbformat": 4,
 "nbformat_minor": 2
}
